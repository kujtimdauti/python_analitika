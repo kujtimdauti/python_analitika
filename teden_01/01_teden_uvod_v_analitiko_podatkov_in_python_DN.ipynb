{
 "cells": [
  {
   "cell_type": "markdown",
   "metadata": {},
   "source": [
    "# Termin_01: Uvod v analitiko podatkov in priprava okolja: Domača naloga"
   ]
  },
  {
   "cell_type": "markdown",
   "metadata": {},
   "source": [
    "**1) What is 3 to the power of 5?**"
   ]
  },
  {
   "cell_type": "code",
   "execution_count": 34,
   "metadata": {},
   "outputs": [
    {
     "name": "stdout",
     "output_type": "stream",
     "text": [
      "Result_1 = 243\n"
     ]
    }
   ],
   "source": [
    "a= 3**5\n",
    "print('Result_1 =',a)"
   ]
  },
  {
   "cell_type": "markdown",
   "metadata": {},
   "source": [
    "**2) Given the variables height and mountain, use .format() to print the following string:**\n",
    "\n",
    "`The height of Mt. Everest is 8848 meters.`"
   ]
  },
  {
   "cell_type": "code",
   "execution_count": 35,
   "metadata": {},
   "outputs": [
    {
     "name": "stdout",
     "output_type": "stream",
     "text": [
      "Result_2 = The height of Mt. Everest is 8848 meters.\n"
     ]
    }
   ],
   "source": [
    "Mountain= 'Mt. Everest'\n",
    "Height = 8848\n",
    "print('Result_2 =','The height of {} is {} meters.'.format(Mountain,Height))"
   ]
  },
  {
   "cell_type": "markdown",
   "metadata": {},
   "source": [
    "**3) Create a variable, s, containing the string \"This course is amazing!\". Using the variable, split the string into a list.**"
   ]
  },
  {
   "cell_type": "code",
   "execution_count": 36,
   "metadata": {},
   "outputs": [
    {
     "name": "stdout",
     "output_type": "stream",
     "text": [
      "Result_3 = ['This', 'course', 'is', 'amazing!']\n"
     ]
    }
   ],
   "source": [
    "s ='This course is amazing!'\n",
    "print('Result_3 =', s.split())"
   ]
  },
  {
   "cell_type": "markdown",
   "metadata": {},
   "source": [
    "**4) Given the following nested list, use indexing to grab the word \"this\".**"
   ]
  },
  {
   "cell_type": "code",
   "execution_count": 17,
   "metadata": {},
   "outputs": [],
   "source": [
    "lst = ['a','b',[4,10,11],['c',[1,66,['this']],2,111],'e',7]\n"
   ]
  },
  {
   "cell_type": "code",
   "execution_count": 37,
   "metadata": {},
   "outputs": [
    {
     "name": "stdout",
     "output_type": "stream",
     "text": [
      "Rsoult_4 = this\n"
     ]
    }
   ],
   "source": [
    "print('Rsoult_4 =', lst[3][1][2][0])"
   ]
  },
  {
   "cell_type": "markdown",
   "metadata": {},
   "source": [
    "**5) Given the following nested dictionary, grab the word \"that\". This exercise is a little more difficult.**"
   ]
  },
  {
   "cell_type": "code",
   "execution_count": 25,
   "metadata": {},
   "outputs": [],
   "source": [
    "d = {'k1':['val1','val2','val3',{'we':['need','to','go',{'deeper':[1,2,3,'that']}]}]}"
   ]
  },
  {
   "cell_type": "code",
   "execution_count": 38,
   "metadata": {},
   "outputs": [
    {
     "name": "stdout",
     "output_type": "stream",
     "text": [
      "Result_5 = that\n"
     ]
    }
   ],
   "source": [
    "print('Result_5 =', d['k1'][3]['we'][3]['deeper'][3])"
   ]
  },
  {
   "cell_type": "markdown",
   "metadata": {},
   "source": [
    "**6) Create a function, GetDomain(), that grabs the email website domain from a string in the form: `user@domain.com`.**\n",
    "\n",
    "*So for example, passing \"user@domain.com\" would return: domain.com*"
   ]
  },
  {
   "cell_type": "code",
   "execution_count": 39,
   "metadata": {},
   "outputs": [],
   "source": [
    "Domain='user@domain.com'\n",
    "def ReturnDomain(x):\n",
    "    return x.split('@')[-1]"
   ]
  },
  {
   "cell_type": "code",
   "execution_count": 45,
   "metadata": {},
   "outputs": [
    {
     "name": "stdout",
     "output_type": "stream",
     "text": [
      "Result_6 = domain.com\n"
     ]
    }
   ],
   "source": [
    "print('Result_6 =', ReturnDomain(Domain))"
   ]
  },
  {
   "cell_type": "markdown",
   "metadata": {},
   "source": [
    "**7) Create a basic function, findInternet(), that returns True if the word 'Internet' is contained in the input string.**\n",
    "\n",
    "*Don't worry about edge cases like punctuation being attached to the word, but account for capitalization.*"
   ]
  },
  {
   "cell_type": "code",
   "execution_count": 51,
   "metadata": {},
   "outputs": [],
   "source": [
    "def findInternet(st):\n",
    "    return 'internet' in st.lower()\n",
    "\n"
   ]
  },
  {
   "cell_type": "code",
   "execution_count": 52,
   "metadata": {},
   "outputs": [
    {
     "name": "stdout",
     "output_type": "stream",
     "text": [
      "Resul_7 = True\n"
     ]
    }
   ],
   "source": [
    "print('Resul_7 =',findInternet('The Internet Engineering Task Force was created in 1986'))\n"
   ]
  },
  {
   "cell_type": "markdown",
   "metadata": {},
   "source": [
    "**8) Create a function, countIoT(), that counts the number of times the word \"IoT\" occurs in a string.**\n",
    "\n",
    "*Ignore edge cases but take into account capitalization*"
   ]
  },
  {
   "cell_type": "code",
   "execution_count": 53,
   "metadata": {},
   "outputs": [],
   "source": [
    "def countIoT(st):\n",
    "    return st.lower().count('iot')"
   ]
  },
  {
   "cell_type": "code",
   "execution_count": 55,
   "metadata": {},
   "outputs": [
    {
     "name": "stdout",
     "output_type": "stream",
     "text": [
      "Result_8 = 4\n"
     ]
    }
   ],
   "source": [
    "print('Result_8 =',countIoT('I don\\'t know how to spell IoT ! Is it IoT or iot ? What does iot mean anyway?'))"
   ]
  },
  {
   "cell_type": "markdown",
   "metadata": {},
   "source": [
    "**9) Imagine a smart thermostat that is connected to the door, so that it can detect, in addition to the temperature, when people enter or leave the house.**\n",
    "\n",
    "*Write a function that, if the temperature is lower than 20 degrees Celsius, and there are people in the house (encoded as a boolean value to be passed as a parameter to the function), turns on the heating by returning the string \"Heating on\". When the temperature reaches 23 degrees or there are no people in the house, it returns the string \"Heating off\". When none of these conditions are met, the function returns \"Do nothing\".*"
   ]
  },
  {
   "cell_type": "code",
   "execution_count": 56,
   "metadata": {},
   "outputs": [],
   "source": [
    "def smart_thermostat(temp, people_in):\n",
    "    out='Heating off'\n",
    "    if people_in==True:\n",
    "        if temp<20:\n",
    "            out='Heating on'\n",
    "        elif temp>=20 and temp<23:\n",
    "            out='Do nothing'\n",
    "    return out\n"
   ]
  },
  {
   "cell_type": "code",
   "execution_count": 65,
   "metadata": {},
   "outputs": [
    {
     "name": "stdout",
     "output_type": "stream",
     "text": [
      "Result_9_sc1 = Do nothing\n"
     ]
    }
   ],
   "source": [
    "print('Result_9_sc1 =', smart_thermostat(21,True))\n"
   ]
  },
  {
   "cell_type": "code",
   "execution_count": 66,
   "metadata": {},
   "outputs": [
    {
     "name": "stdout",
     "output_type": "stream",
     "text": [
      "Result_9_sc2 = Heating off\n"
     ]
    }
   ],
   "source": [
    "print('Result_9_sc2 =',smart_thermostat(21,False))"
   ]
  },
  {
   "cell_type": "code",
   "execution_count": 67,
   "metadata": {},
   "outputs": [
    {
     "name": "stdout",
     "output_type": "stream",
     "text": [
      "Result_9_sc3 = Heating off\n"
     ]
    }
   ],
   "source": [
    "print('Result_9_sc3 =',smart_thermostat(23,False))"
   ]
  },
  {
   "cell_type": "code",
   "execution_count": 68,
   "metadata": {},
   "outputs": [
    {
     "name": "stdout",
     "output_type": "stream",
     "text": [
      "Result_9_sc4 = Heating off\n"
     ]
    }
   ],
   "source": [
    "print('Result_9_sc4 =',smart_thermostat(23,True))"
   ]
  },
  {
   "cell_type": "code",
   "execution_count": 69,
   "metadata": {},
   "outputs": [
    {
     "name": "stdout",
     "output_type": "stream",
     "text": [
      "Result_9_sc5 = Heating on\n"
     ]
    }
   ],
   "source": [
    "print('Result_9_sc5 =',smart_thermostat(19,True))"
   ]
  },
  {
   "cell_type": "code",
   "execution_count": 70,
   "metadata": {},
   "outputs": [
    {
     "name": "stdout",
     "output_type": "stream",
     "text": [
      "Result_9_sc6 = Heating off\n"
     ]
    }
   ],
   "source": [
    "print('Result_9_sc6 =',smart_thermostat(19,False))"
   ]
  },
  {
   "cell_type": "code",
   "execution_count": null,
   "metadata": {},
   "outputs": [],
   "source": []
  }
 ],
 "metadata": {
  "kernelspec": {
   "display_name": "Python 3",
   "language": "python",
   "name": "python3"
  },
  "language_info": {
   "codemirror_mode": {
    "name": "ipython",
    "version": 3
   },
   "file_extension": ".py",
   "mimetype": "text/x-python",
   "name": "python",
   "nbconvert_exporter": "python",
   "pygments_lexer": "ipython3",
   "version": "3.7.3"
  }
 },
 "nbformat": 4,
 "nbformat_minor": 2
}
